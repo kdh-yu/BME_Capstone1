{
 "cells": [
  {
   "cell_type": "markdown",
   "metadata": {},
   "source": [
    "# Image Encoder Test"
   ]
  },
  {
   "cell_type": "code",
   "execution_count": 15,
   "metadata": {},
   "outputs": [],
   "source": [
    "# Libraries\n",
    "import matplotlib.pyplot as plt\n",
    "import torch\n",
    "from PIL import Image\n",
    "\n",
    "from preprocessing import preprocessing_dinov2, preprocessing_sam2"
   ]
  },
  {
   "cell_type": "code",
   "execution_count": 16,
   "metadata": {},
   "outputs": [],
   "source": [
    "# Examaple\n",
    "image = Image.open('/home/kdh/code/BME_Capstone1/FAISS/A00028185_axial_107.png')\n",
    "label = Image.open('/home/kdh/code/BME_Capstone1/FAISS/A00028185_axial_107_mask.png')"
   ]
  },
  {
   "cell_type": "code",
   "execution_count": 25,
   "metadata": {},
   "outputs": [],
   "source": [
    "from sam2.sam2_video_predictor import SAM2VideoPredictor\n",
    "predictor = SAM2VideoPredictor.from_pretrained('facebook/sam2-hiera-large')"
   ]
  },
  {
   "cell_type": "code",
   "execution_count": 26,
   "metadata": {},
   "outputs": [],
   "source": [
    "import torchvision.transforms.functional as TF\n",
    "\n",
    "img_feat = predictor.image_encoder(preprocessing_sam2(image).cuda().unsqueeze(0))#.keys()"
   ]
  },
  {
   "cell_type": "code",
   "execution_count": 27,
   "metadata": {},
   "outputs": [
    {
     "data": {
      "text/plain": [
       "torch.Size([1, 256, 16, 12])"
      ]
     },
     "execution_count": 27,
     "metadata": {},
     "output_type": "execute_result"
    }
   ],
   "source": [
    "img_feat['vision_features'].shape"
   ]
  },
  {
   "cell_type": "code",
   "execution_count": 28,
   "metadata": {},
   "outputs": [
    {
     "name": "stdout",
     "output_type": "stream",
     "text": [
      "0\ttorch.Size([1, 256, 64, 48])\n",
      "1\ttorch.Size([1, 256, 32, 24])\n",
      "2\ttorch.Size([1, 256, 16, 12])\n"
     ]
    }
   ],
   "source": [
    "for i in range(len(img_feat['vision_pos_enc'])):\n",
    "    print(f\"{i}\\t{img_feat['vision_pos_enc'][i].shape}\")"
   ]
  },
  {
   "cell_type": "code",
   "execution_count": 29,
   "metadata": {},
   "outputs": [
    {
     "name": "stdout",
     "output_type": "stream",
     "text": [
      "0\ttorch.Size([1, 256, 64, 48])\n",
      "1\ttorch.Size([1, 256, 32, 24])\n",
      "2\ttorch.Size([1, 256, 16, 12])\n"
     ]
    }
   ],
   "source": [
    "for i in range(len(img_feat['backbone_fpn'])):\n",
    "    print(f\"{i}\\t{img_feat['backbone_fpn'][i].shape}\")"
   ]
  }
 ],
 "metadata": {
  "kernelspec": {
   "display_name": "bme",
   "language": "python",
   "name": "python3"
  },
  "language_info": {
   "codemirror_mode": {
    "name": "ipython",
    "version": 3
   },
   "file_extension": ".py",
   "mimetype": "text/x-python",
   "name": "python",
   "nbconvert_exporter": "python",
   "pygments_lexer": "ipython3",
   "version": "3.10.16"
  }
 },
 "nbformat": 4,
 "nbformat_minor": 2
}
