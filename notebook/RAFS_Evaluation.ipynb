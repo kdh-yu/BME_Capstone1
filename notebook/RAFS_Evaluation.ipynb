{
 "cells": [
  {
   "cell_type": "markdown",
   "metadata": {},
   "source": [
    "# Evaluation\n",
    "\n",
    "This notebook shows the actual performace evaluation of RAFS."
   ]
  },
  {
   "cell_type": "code",
   "execution_count": 1,
   "metadata": {},
   "outputs": [
    {
     "name": "stderr",
     "output_type": "stream",
     "text": [
      "Using cache found in /home/kdh/.cache/torch/hub/facebookresearch_dinov2_main\n",
      "/home/kdh/.cache/torch/hub/facebookresearch_dinov2_main/dinov2/layers/swiglu_ffn.py:51: UserWarning: xFormers is not available (SwiGLU)\n",
      "  warnings.warn(\"xFormers is not available (SwiGLU)\")\n",
      "/home/kdh/.cache/torch/hub/facebookresearch_dinov2_main/dinov2/layers/attention.py:33: UserWarning: xFormers is not available (Attention)\n",
      "  warnings.warn(\"xFormers is not available (Attention)\")\n",
      "/home/kdh/.cache/torch/hub/facebookresearch_dinov2_main/dinov2/layers/block.py:40: UserWarning: xFormers is not available (Block)\n",
      "  warnings.warn(\"xFormers is not available (Block)\")\n"
     ]
    }
   ],
   "source": [
    "import os\n",
    "\n",
    "import nibabel as nib\n",
    "import numpy as np\n",
    "import torch\n",
    "from torch.utils.data import Dataset\n",
    "from tqdm import tqdm\n",
    "\n",
    "from processor import processor\n",
    "from model.RAFS import RAFS\n",
    "\n",
    "model = RAFS(faiss_index='/home/kdh/code/BME_Capstone1/BME_faiss.index',\n",
    "             faiss_json='/home/kdh/code/BME_Capstone1/faiss_idx.json',\n",
    "             n=8)"
   ]
  },
  {
   "cell_type": "code",
   "execution_count": 15,
   "metadata": {},
   "outputs": [],
   "source": [
    "# Dataset\n",
    "class NFBS(Dataset):\n",
    "    def __init__(self, faiss_list, data_path):\n",
    "        self.faiss_list = faiss_list\n",
    "        self.data_path = data_path\n",
    "        self.data_list = [i for i in os.listdir(self.data_path) if i not in self.faiss_list]\n",
    "        self.data_name = '{}/sub-{}_ses-NFB3_T1w.nii.gz'\n",
    "        self.mask_name = '{}/sub-{}_ses-NFB3_T1w_brainmask.nii.gz'\n",
    "        \n",
    "    \n",
    "    def __len__(self):\n",
    "        return len(self.data_list)\n",
    "    \n",
    "    def __getitem__(self, idx):\n",
    "        dname = self.data_list[idx]\n",
    "        \n",
    "        data_path = os.path.join(self.data_path, self.data_name.format(dname, dname))\n",
    "        mask_path = os.path.join(self.data_path, self.mask_name.format(dname, dname))\n",
    "        \n",
    "        data = nib.load(data_path).get_fdata().astype(np.float32)\n",
    "        mask = nib.load(mask_path).get_fdata().astype(np.float32)\n",
    "        \n",
    "        return data, mask\n",
    "\n",
    "nfbs = NFBS(faiss_list=['A00060407', 'A00028185', 'A00060925'], \n",
    "            data_path='/home/kdh/code/BME_Capstone1/data/NFBS_Dataset')"
   ]
  },
  {
   "cell_type": "code",
   "execution_count": 17,
   "metadata": {},
   "outputs": [],
   "source": [
    "def DSC(pred, y, eps=0):\n",
    "    pred_flat = pred.contiguous().view(-1)\n",
    "    y_flat = y.contiguous().view(-1)\n",
    "    intersection = (pred_flat * y_flat).sum()\n",
    "    union = pred_flat.sum() + y_flat.sum()\n",
    "    \n",
    "    return (2. * intersection) / (union + eps)"
   ]
  },
  {
   "cell_type": "code",
   "execution_count": 18,
   "metadata": {},
   "outputs": [
    {
     "name": "stderr",
     "output_type": "stream",
     "text": [
      "100%|██████████| 122/122 [3:29:01<00:00, 102.80s/it] "
     ]
    },
    {
     "name": "stdout",
     "output_type": "stream",
     "text": [
      "Average Slice-wise Dice Score: 0.8969135284423828\n",
      "Average Volume-wise Dice Score:\t0.9593644142150879\n"
     ]
    },
    {
     "name": "stderr",
     "output_type": "stream",
     "text": [
      "\n"
     ]
    }
   ],
   "source": [
    "dice_slice = 0\n",
    "num_slice = 0\n",
    "\n",
    "dice_volume = 0\n",
    "num_volume = 0\n",
    "\n",
    "model.eval()\n",
    "with torch.no_grad():\n",
    "    for mri, msk in tqdm(nfbs):\n",
    "        intersection_vol = 0\n",
    "        pred_vol = 0\n",
    "        gt_vol = 0\n",
    "        \n",
    "        for i in range(mri.shape[1]):\n",
    "            x = mri[:, i, :]\n",
    "            x = (x - x.min()) / (x.max() - x.min() + 1e-6)\n",
    "            y_true = msk[:, i, :]\n",
    "            y_true = processor(y_true, mode='mask')\n",
    "            \n",
    "            pred, _ = model(x)\n",
    "            pred = processor(pred[0], mode='mask')\n",
    "            \n",
    "            pred_vol += pred.sum()\n",
    "            gt_vol += y_true.sum()\n",
    "            intersection_vol += (pred * y_true).sum()\n",
    "            \n",
    "            \n",
    "            if y_true.sum() == 0:\n",
    "                continue\n",
    "            \n",
    "            dice_score = DSC(pred, y_true)\n",
    "            dice_slice += dice_score\n",
    "            num_slice += 1\n",
    "            \n",
    "        dice_volume += (2. * intersection_vol) / (pred_vol + gt_vol)\n",
    "        num_volume += 1\n",
    "print(f\"Average Slice-wise Dice Score: {dice_slice / num_slice}\")\n",
    "print(f\"Average Volume-wise Dice Score:\\t{dice_volume / num_volume}\")\n",
    "        "
   ]
  },
  {
   "cell_type": "code",
   "execution_count": 19,
   "metadata": {},
   "outputs": [
    {
     "name": "stdout",
     "output_type": "stream",
     "text": [
      "Valid slice:\t17180\n",
      "Average Slice-wise Dice Score:\t0.8969\n",
      "Average Volume-wise Dice Score:\t0.9594\n"
     ]
    }
   ],
   "source": [
    "print(f\"Valid slice:\\t{num_slice}\")\n",
    "print(f\"Average Slice-wise Dice Score:\\t{dice_slice / num_slice:.4f}\")\n",
    "print(f\"Average Volume-wise Dice Score:\\t{dice_volume / num_volume:.4f}\")"
   ]
  }
 ],
 "metadata": {
  "kernelspec": {
   "display_name": "bme",
   "language": "python",
   "name": "python3"
  },
  "language_info": {
   "codemirror_mode": {
    "name": "ipython",
    "version": 3
   },
   "file_extension": ".py",
   "mimetype": "text/x-python",
   "name": "python",
   "nbconvert_exporter": "python",
   "pygments_lexer": "ipython3",
   "version": "3.10.16"
  }
 },
 "nbformat": 4,
 "nbformat_minor": 2
}
